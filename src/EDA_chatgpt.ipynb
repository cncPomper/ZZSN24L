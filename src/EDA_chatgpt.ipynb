{
 "cells": [
  {
   "cell_type": "code",
   "execution_count": 1,
   "metadata": {},
   "outputs": [],
   "source": [
    "import pandas as pd"
   ]
  },
  {
   "cell_type": "code",
   "execution_count": 2,
   "metadata": {},
   "outputs": [
    {
     "data": {
      "text/html": [
       "<div>\n",
       "<style scoped>\n",
       "    .dataframe tbody tr th:only-of-type {\n",
       "        vertical-align: middle;\n",
       "    }\n",
       "\n",
       "    .dataframe tbody tr th {\n",
       "        vertical-align: top;\n",
       "    }\n",
       "\n",
       "    .dataframe thead th {\n",
       "        text-align: right;\n",
       "    }\n",
       "</style>\n",
       "<table border=\"1\" class=\"dataframe\">\n",
       "  <thead>\n",
       "    <tr style=\"text-align: right;\">\n",
       "      <th></th>\n",
       "      <th>reviewId</th>\n",
       "      <th>userName</th>\n",
       "      <th>content</th>\n",
       "      <th>score</th>\n",
       "      <th>thumbsUpCount</th>\n",
       "      <th>reviewCreatedVersion</th>\n",
       "      <th>at</th>\n",
       "      <th>appVersion</th>\n",
       "    </tr>\n",
       "  </thead>\n",
       "  <tbody>\n",
       "    <tr>\n",
       "      <th>0</th>\n",
       "      <td>8103ca13-896b-4f2f-a6d0-5e0acbcf91ef</td>\n",
       "      <td>Somto Okechi</td>\n",
       "      <td>this is super intelligent ...you should try it</td>\n",
       "      <td>3</td>\n",
       "      <td>0</td>\n",
       "      <td>1.2024.131</td>\n",
       "      <td>2024-05-21 23:04:10</td>\n",
       "      <td>1.2024.131</td>\n",
       "    </tr>\n",
       "    <tr>\n",
       "      <th>1</th>\n",
       "      <td>106dc1ff-394a-4154-a16d-edfb2462c5a7</td>\n",
       "      <td>Felipe Sandoval</td>\n",
       "      <td>Me cambio la vida el asistente</td>\n",
       "      <td>5</td>\n",
       "      <td>0</td>\n",
       "      <td>NaN</td>\n",
       "      <td>2024-05-21 23:01:54</td>\n",
       "      <td>NaN</td>\n",
       "    </tr>\n",
       "    <tr>\n",
       "      <th>2</th>\n",
       "      <td>f65167ae-a7d3-48d2-b708-f3506018763a</td>\n",
       "      <td>Isaiah</td>\n",
       "      <td>it helped me so much you need to get it!!!</td>\n",
       "      <td>5</td>\n",
       "      <td>0</td>\n",
       "      <td>1.2024.131</td>\n",
       "      <td>2024-05-21 23:01:51</td>\n",
       "      <td>1.2024.131</td>\n",
       "    </tr>\n",
       "    <tr>\n",
       "      <th>3</th>\n",
       "      <td>a1b0f9df-9a31-4880-9838-6692d379c889</td>\n",
       "      <td>ReX MEDIA STUDIOX</td>\n",
       "      <td>Great 👌</td>\n",
       "      <td>5</td>\n",
       "      <td>0</td>\n",
       "      <td>1.2024.131</td>\n",
       "      <td>2024-05-21 23:00:24</td>\n",
       "      <td>1.2024.131</td>\n",
       "    </tr>\n",
       "    <tr>\n",
       "      <th>4</th>\n",
       "      <td>8c159eba-cce9-4cff-84af-7fae1024cdf8</td>\n",
       "      <td>jessica lyn</td>\n",
       "      <td>Careful, you can't change the model so it deci...</td>\n",
       "      <td>1</td>\n",
       "      <td>0</td>\n",
       "      <td>1.2024.131</td>\n",
       "      <td>2024-05-21 22:53:28</td>\n",
       "      <td>1.2024.131</td>\n",
       "    </tr>\n",
       "  </tbody>\n",
       "</table>\n",
       "</div>"
      ],
      "text/plain": [
       "                               reviewId           userName  \\\n",
       "0  8103ca13-896b-4f2f-a6d0-5e0acbcf91ef       Somto Okechi   \n",
       "1  106dc1ff-394a-4154-a16d-edfb2462c5a7    Felipe Sandoval   \n",
       "2  f65167ae-a7d3-48d2-b708-f3506018763a             Isaiah   \n",
       "3  a1b0f9df-9a31-4880-9838-6692d379c889  ReX MEDIA STUDIOX   \n",
       "4  8c159eba-cce9-4cff-84af-7fae1024cdf8        jessica lyn   \n",
       "\n",
       "                                             content  score  thumbsUpCount  \\\n",
       "0     this is super intelligent ...you should try it      3              0   \n",
       "1                     Me cambio la vida el asistente      5              0   \n",
       "2         it helped me so much you need to get it!!!      5              0   \n",
       "3                                            Great 👌      5              0   \n",
       "4  Careful, you can't change the model so it deci...      1              0   \n",
       "\n",
       "  reviewCreatedVersion                   at  appVersion  \n",
       "0           1.2024.131  2024-05-21 23:04:10  1.2024.131  \n",
       "1                  NaN  2024-05-21 23:01:54         NaN  \n",
       "2           1.2024.131  2024-05-21 23:01:51  1.2024.131  \n",
       "3           1.2024.131  2024-05-21 23:00:24  1.2024.131  \n",
       "4           1.2024.131  2024-05-21 22:53:28  1.2024.131  "
      ]
     },
     "execution_count": 2,
     "metadata": {},
     "output_type": "execute_result"
    }
   ],
   "source": [
    "df = pd.read_csv('../data/chatgpt_reviews/chatgpt_reviews.csv')\n",
    "df.head()"
   ]
  },
  {
   "cell_type": "code",
   "execution_count": 3,
   "metadata": {},
   "outputs": [
    {
     "name": "stdout",
     "output_type": "stream",
     "text": [
      "<class 'pandas.core.frame.DataFrame'>\n",
      "RangeIndex: 122962 entries, 0 to 122961\n",
      "Data columns (total 8 columns):\n",
      " #   Column                Non-Null Count   Dtype \n",
      "---  ------                --------------   ----- \n",
      " 0   reviewId              122962 non-null  object\n",
      " 1   userName              122961 non-null  object\n",
      " 2   content               122958 non-null  object\n",
      " 3   score                 122962 non-null  int64 \n",
      " 4   thumbsUpCount         122962 non-null  int64 \n",
      " 5   reviewCreatedVersion  112500 non-null  object\n",
      " 6   at                    122962 non-null  object\n",
      " 7   appVersion            112500 non-null  object\n",
      "dtypes: int64(2), object(6)\n",
      "memory usage: 7.5+ MB\n"
     ]
    }
   ],
   "source": [
    "df.info()"
   ]
  },
  {
   "cell_type": "code",
   "execution_count": 4,
   "metadata": {},
   "outputs": [
    {
     "data": {
      "text/html": [
       "<div>\n",
       "<style scoped>\n",
       "    .dataframe tbody tr th:only-of-type {\n",
       "        vertical-align: middle;\n",
       "    }\n",
       "\n",
       "    .dataframe tbody tr th {\n",
       "        vertical-align: top;\n",
       "    }\n",
       "\n",
       "    .dataframe thead th {\n",
       "        text-align: right;\n",
       "    }\n",
       "</style>\n",
       "<table border=\"1\" class=\"dataframe\">\n",
       "  <thead>\n",
       "    <tr style=\"text-align: right;\">\n",
       "      <th></th>\n",
       "      <th>score</th>\n",
       "      <th>thumbsUpCount</th>\n",
       "    </tr>\n",
       "  </thead>\n",
       "  <tbody>\n",
       "    <tr>\n",
       "      <th>count</th>\n",
       "      <td>122962.000000</td>\n",
       "      <td>122962.000000</td>\n",
       "    </tr>\n",
       "    <tr>\n",
       "      <th>mean</th>\n",
       "      <td>4.497804</td>\n",
       "      <td>0.571746</td>\n",
       "    </tr>\n",
       "    <tr>\n",
       "      <th>std</th>\n",
       "      <td>1.089754</td>\n",
       "      <td>13.225767</td>\n",
       "    </tr>\n",
       "    <tr>\n",
       "      <th>min</th>\n",
       "      <td>1.000000</td>\n",
       "      <td>0.000000</td>\n",
       "    </tr>\n",
       "    <tr>\n",
       "      <th>25%</th>\n",
       "      <td>5.000000</td>\n",
       "      <td>0.000000</td>\n",
       "    </tr>\n",
       "    <tr>\n",
       "      <th>50%</th>\n",
       "      <td>5.000000</td>\n",
       "      <td>0.000000</td>\n",
       "    </tr>\n",
       "    <tr>\n",
       "      <th>75%</th>\n",
       "      <td>5.000000</td>\n",
       "      <td>0.000000</td>\n",
       "    </tr>\n",
       "    <tr>\n",
       "      <th>max</th>\n",
       "      <td>5.000000</td>\n",
       "      <td>1193.000000</td>\n",
       "    </tr>\n",
       "  </tbody>\n",
       "</table>\n",
       "</div>"
      ],
      "text/plain": [
       "               score  thumbsUpCount\n",
       "count  122962.000000  122962.000000\n",
       "mean        4.497804       0.571746\n",
       "std         1.089754      13.225767\n",
       "min         1.000000       0.000000\n",
       "25%         5.000000       0.000000\n",
       "50%         5.000000       0.000000\n",
       "75%         5.000000       0.000000\n",
       "max         5.000000    1193.000000"
      ]
     },
     "execution_count": 4,
     "metadata": {},
     "output_type": "execute_result"
    }
   ],
   "source": [
    "df.describe()"
   ]
  },
  {
   "cell_type": "code",
   "execution_count": 6,
   "metadata": {},
   "outputs": [
    {
     "data": {
      "text/plain": [
       "reviewId                             20b28561-b3f5-4237-8074-a2dc4c00a1ce\n",
       "userName                                                     Dave Walters\n",
       "content                 I haven't used it enough yet, but I'll let you...\n",
       "score                                                                   5\n",
       "thumbsUpCount                                                           0\n",
       "reviewCreatedVersion                                           1.2024.122\n",
       "at                                                    2024-05-21 21:06:53\n",
       "appVersion                                                     1.2024.122\n",
       "Name: 42, dtype: object"
      ]
     },
     "execution_count": 6,
     "metadata": {},
     "output_type": "execute_result"
    }
   ],
   "source": [
    "df.iloc[42]"
   ]
  },
  {
   "cell_type": "code",
   "execution_count": 8,
   "metadata": {},
   "outputs": [
    {
     "data": {
      "text/plain": [
       "\"I haven't used it enough yet, but I'll let you know shortly and provide a ur indepth response.\""
      ]
     },
     "execution_count": 8,
     "metadata": {},
     "output_type": "execute_result"
    }
   ],
   "source": [
    "df.iloc[42]['content']"
   ]
  },
  {
   "cell_type": "code",
   "execution_count": 10,
   "metadata": {},
   "outputs": [
    {
     "data": {
      "text/html": [
       "<div>\n",
       "<style scoped>\n",
       "    .dataframe tbody tr th:only-of-type {\n",
       "        vertical-align: middle;\n",
       "    }\n",
       "\n",
       "    .dataframe tbody tr th {\n",
       "        vertical-align: top;\n",
       "    }\n",
       "\n",
       "    .dataframe thead th {\n",
       "        text-align: right;\n",
       "    }\n",
       "</style>\n",
       "<table border=\"1\" class=\"dataframe\">\n",
       "  <thead>\n",
       "    <tr style=\"text-align: right;\">\n",
       "      <th></th>\n",
       "      <th>content</th>\n",
       "      <th>score</th>\n",
       "    </tr>\n",
       "  </thead>\n",
       "  <tbody>\n",
       "    <tr>\n",
       "      <th>40</th>\n",
       "      <td>Fantastic tool</td>\n",
       "      <td>5</td>\n",
       "    </tr>\n",
       "    <tr>\n",
       "      <th>41</th>\n",
       "      <td>I am enjoying it</td>\n",
       "      <td>5</td>\n",
       "    </tr>\n",
       "    <tr>\n",
       "      <th>42</th>\n",
       "      <td>I haven't used it enough yet, but I'll let you...</td>\n",
       "      <td>5</td>\n",
       "    </tr>\n",
       "    <tr>\n",
       "      <th>43</th>\n",
       "      <td>top</td>\n",
       "      <td>5</td>\n",
       "    </tr>\n",
       "    <tr>\n",
       "      <th>44</th>\n",
       "      <td>It's a very great app.</td>\n",
       "      <td>5</td>\n",
       "    </tr>\n",
       "    <tr>\n",
       "      <th>45</th>\n",
       "      <td>💯 good 👍 for we learners</td>\n",
       "      <td>5</td>\n",
       "    </tr>\n",
       "    <tr>\n",
       "      <th>46</th>\n",
       "      <td>❤️❤️❤️</td>\n",
       "      <td>5</td>\n",
       "    </tr>\n",
       "    <tr>\n",
       "      <th>47</th>\n",
       "      <td>fantastic</td>\n",
       "      <td>4</td>\n",
       "    </tr>\n",
       "    <tr>\n",
       "      <th>48</th>\n",
       "      <td>Muito interessante</td>\n",
       "      <td>5</td>\n",
       "    </tr>\n",
       "    <tr>\n",
       "      <th>49</th>\n",
       "      <td>Nice 👍</td>\n",
       "      <td>5</td>\n",
       "    </tr>\n",
       "  </tbody>\n",
       "</table>\n",
       "</div>"
      ],
      "text/plain": [
       "                                              content  score\n",
       "40                                     Fantastic tool      5\n",
       "41                                   I am enjoying it      5\n",
       "42  I haven't used it enough yet, but I'll let you...      5\n",
       "43                                                top      5\n",
       "44                             It's a very great app.      5\n",
       "45                           💯 good 👍 for we learners      5\n",
       "46                                             ❤️❤️❤️      5\n",
       "47                                          fantastic      4\n",
       "48                                 Muito interessante      5\n",
       "49                                             Nice 👍      5"
      ]
     },
     "execution_count": 10,
     "metadata": {},
     "output_type": "execute_result"
    }
   ],
   "source": [
    "df.iloc[40:50, 2:4]"
   ]
  },
  {
   "cell_type": "code",
   "execution_count": 11,
   "metadata": {},
   "outputs": [
    {
     "data": {
      "text/plain": [
       "score\n",
       "5    93611\n",
       "4    14470\n",
       "1     7723\n",
       "3     5085\n",
       "2     2073\n",
       "Name: count, dtype: int64"
      ]
     },
     "execution_count": 11,
     "metadata": {},
     "output_type": "execute_result"
    }
   ],
   "source": [
    "df['score'].value_counts()"
   ]
  },
  {
   "cell_type": "code",
   "execution_count": 12,
   "metadata": {},
   "outputs": [
    {
     "data": {
      "text/plain": [
       "score\n",
       "5    0.761300\n",
       "4    0.117679\n",
       "1    0.062808\n",
       "3    0.041354\n",
       "2    0.016859\n",
       "Name: proportion, dtype: float64"
      ]
     },
     "execution_count": 12,
     "metadata": {},
     "output_type": "execute_result"
    }
   ],
   "source": [
    "df['score'].value_counts(normalize=True)"
   ]
  },
  {
   "cell_type": "code",
   "execution_count": 13,
   "metadata": {},
   "outputs": [
    {
     "data": {
      "text/plain": [
       "<Axes: >"
      ]
     },
     "execution_count": 13,
     "metadata": {},
     "output_type": "execute_result"
    },
    {
     "data": {
      "image/png": "[encoded data removed]",
      "text/plain": [
       "<Figure size 640x480 with 1 Axes>"
      ]
     },
     "metadata": {},
     "output_type": "display_data"
    }
   ],
   "source": [
    "df['score'].hist()"
   ]
  },
  {
   "cell_type": "code",
   "execution_count": null,
   "metadata": {},
   "outputs": [],
   "source": []
  }
 ],
 "metadata": {
  "kernelspec": {
   "display_name": "venv",
   "language": "python",
   "name": "python3"
  },
  "language_info": {
   "codemirror_mode": {
    "name": "ipython",
    "version": 3
   },
   "file_extension": ".py",
   "mimetype": "text/x-python",
   "name": "python",
   "nbconvert_exporter": "python",
   "pygments_lexer": "ipython3",
   "version": "3.10.3"
  }
 },
 "nbformat": 4,
 "nbformat_minor": 2
}
