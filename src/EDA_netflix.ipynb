{
 "cells": [
  {
   "cell_type": "code",
   "execution_count": 2,
   "metadata": {},
   "outputs": [],
   "source": [
    "import pandas as pd"
   ]
  },
  {
   "cell_type": "code",
   "execution_count": 3,
   "metadata": {},
   "outputs": [
    {
     "data": {
      "text/html": [
       "<div>\n",
       "<style scoped>\n",
       "    .dataframe tbody tr th:only-of-type {\n",
       "        vertical-align: middle;\n",
       "    }\n",
       "\n",
       "    .dataframe tbody tr th {\n",
       "        vertical-align: top;\n",
       "    }\n",
       "\n",
       "    .dataframe thead th {\n",
       "        text-align: right;\n",
       "    }\n",
       "</style>\n",
       "<table border=\"1\" class=\"dataframe\">\n",
       "  <thead>\n",
       "    <tr style=\"text-align: right;\">\n",
       "      <th></th>\n",
       "      <th>reviewId</th>\n",
       "      <th>userName</th>\n",
       "      <th>content</th>\n",
       "      <th>score</th>\n",
       "      <th>thumbsUpCount</th>\n",
       "      <th>reviewCreatedVersion</th>\n",
       "      <th>at</th>\n",
       "      <th>appVersion</th>\n",
       "    </tr>\n",
       "  </thead>\n",
       "  <tbody>\n",
       "    <tr>\n",
       "      <th>0</th>\n",
       "      <td>c01a0242-e5e7-4e8a-a948-3f0b3ba89f20</td>\n",
       "      <td>Chris Paredes</td>\n",
       "      <td>Where it's me on the plane. It's good. You can...</td>\n",
       "      <td>5</td>\n",
       "      <td>0</td>\n",
       "      <td>8.113.3 build 31 50678</td>\n",
       "      <td>2024-05-21 22:41:10</td>\n",
       "      <td>8.113.3 build 31 50678</td>\n",
       "    </tr>\n",
       "    <tr>\n",
       "      <th>1</th>\n",
       "      <td>3c1c9fab-65e9-4f89-a1b6-9c45f27addb1</td>\n",
       "      <td>ijustwannabefab</td>\n",
       "      <td>I have an account for 5 users that I share wit...</td>\n",
       "      <td>1</td>\n",
       "      <td>1</td>\n",
       "      <td>8.114.0 build 19 50680</td>\n",
       "      <td>2024-05-21 22:25:36</td>\n",
       "      <td>8.114.0 build 19 50680</td>\n",
       "    </tr>\n",
       "    <tr>\n",
       "      <th>2</th>\n",
       "      <td>27fdf06b-24e8-4a72-9092-c88518e2ceb2</td>\n",
       "      <td>Darah Lazo</td>\n",
       "      <td>Can never go a day without Netflix 😎</td>\n",
       "      <td>5</td>\n",
       "      <td>0</td>\n",
       "      <td>8.114.0 build 19 50680</td>\n",
       "      <td>2024-05-21 22:25:29</td>\n",
       "      <td>8.114.0 build 19 50680</td>\n",
       "    </tr>\n",
       "    <tr>\n",
       "      <th>3</th>\n",
       "      <td>2e8efd65-9b51-4ce4-ace0-411215764a93</td>\n",
       "      <td>jeremy porter</td>\n",
       "      <td>And another streaming service that I'm not gon...</td>\n",
       "      <td>1</td>\n",
       "      <td>1</td>\n",
       "      <td>8.113.3 build 31 50678</td>\n",
       "      <td>2024-05-21 22:25:17</td>\n",
       "      <td>8.113.3 build 31 50678</td>\n",
       "    </tr>\n",
       "    <tr>\n",
       "      <th>4</th>\n",
       "      <td>5918b74d-38d0-4e9a-ac5e-da2738351352</td>\n",
       "      <td>Jacob Overcash</td>\n",
       "      <td>Cannot cast if you have ad level plan. Worthless</td>\n",
       "      <td>1</td>\n",
       "      <td>0</td>\n",
       "      <td>8.114.0 build 19 50680</td>\n",
       "      <td>2024-05-21 22:10:44</td>\n",
       "      <td>8.114.0 build 19 50680</td>\n",
       "    </tr>\n",
       "  </tbody>\n",
       "</table>\n",
       "</div>"
      ],
      "text/plain": [
       "                               reviewId         userName  \\\n",
       "0  c01a0242-e5e7-4e8a-a948-3f0b3ba89f20    Chris Paredes   \n",
       "1  3c1c9fab-65e9-4f89-a1b6-9c45f27addb1  ijustwannabefab   \n",
       "2  27fdf06b-24e8-4a72-9092-c88518e2ceb2       Darah Lazo   \n",
       "3  2e8efd65-9b51-4ce4-ace0-411215764a93    jeremy porter   \n",
       "4  5918b74d-38d0-4e9a-ac5e-da2738351352   Jacob Overcash   \n",
       "\n",
       "                                             content  score  thumbsUpCount  \\\n",
       "0  Where it's me on the plane. It's good. You can...      5              0   \n",
       "1  I have an account for 5 users that I share wit...      1              1   \n",
       "2               Can never go a day without Netflix 😎      5              0   \n",
       "3  And another streaming service that I'm not gon...      1              1   \n",
       "4   Cannot cast if you have ad level plan. Worthless      1              0   \n",
       "\n",
       "     reviewCreatedVersion                   at              appVersion  \n",
       "0  8.113.3 build 31 50678  2024-05-21 22:41:10  8.113.3 build 31 50678  \n",
       "1  8.114.0 build 19 50680  2024-05-21 22:25:36  8.114.0 build 19 50680  \n",
       "2  8.114.0 build 19 50680  2024-05-21 22:25:29  8.114.0 build 19 50680  \n",
       "3  8.113.3 build 31 50678  2024-05-21 22:25:17  8.113.3 build 31 50678  \n",
       "4  8.114.0 build 19 50680  2024-05-21 22:10:44  8.114.0 build 19 50680  "
      ]
     },
     "execution_count": 3,
     "metadata": {},
     "output_type": "execute_result"
    }
   ],
   "source": [
    "df = pd.read_csv('../data/netflix_reviews/netflix_reviews.csv')\n",
    "df.head()"
   ]
  },
  {
   "cell_type": "code",
   "execution_count": 4,
   "metadata": {},
   "outputs": [
    {
     "name": "stdout",
     "output_type": "stream",
     "text": [
      "<class 'pandas.core.frame.DataFrame'>\n",
      "RangeIndex: 109729 entries, 0 to 109728\n",
      "Data columns (total 8 columns):\n",
      " #   Column                Non-Null Count   Dtype \n",
      "---  ------                --------------   ----- \n",
      " 0   reviewId              109729 non-null  object\n",
      " 1   userName              109728 non-null  object\n",
      " 2   content               109727 non-null  object\n",
      " 3   score                 109729 non-null  int64 \n",
      " 4   thumbsUpCount         109729 non-null  int64 \n",
      " 5   reviewCreatedVersion  94096 non-null   object\n",
      " 6   at                    109729 non-null  object\n",
      " 7   appVersion            94096 non-null   object\n",
      "dtypes: int64(2), object(6)\n",
      "memory usage: 6.7+ MB\n"
     ]
    }
   ],
   "source": [
    "df.info()"
   ]
  },
  {
   "cell_type": "code",
   "execution_count": 5,
   "metadata": {},
   "outputs": [
    {
     "data": {
      "text/html": [
       "<div>\n",
       "<style scoped>\n",
       "    .dataframe tbody tr th:only-of-type {\n",
       "        vertical-align: middle;\n",
       "    }\n",
       "\n",
       "    .dataframe tbody tr th {\n",
       "        vertical-align: top;\n",
       "    }\n",
       "\n",
       "    .dataframe thead th {\n",
       "        text-align: right;\n",
       "    }\n",
       "</style>\n",
       "<table border=\"1\" class=\"dataframe\">\n",
       "  <thead>\n",
       "    <tr style=\"text-align: right;\">\n",
       "      <th></th>\n",
       "      <th>score</th>\n",
       "      <th>thumbsUpCount</th>\n",
       "    </tr>\n",
       "  </thead>\n",
       "  <tbody>\n",
       "    <tr>\n",
       "      <th>count</th>\n",
       "      <td>109729.000000</td>\n",
       "      <td>109729.000000</td>\n",
       "    </tr>\n",
       "    <tr>\n",
       "      <th>mean</th>\n",
       "      <td>2.807107</td>\n",
       "      <td>10.750613</td>\n",
       "    </tr>\n",
       "    <tr>\n",
       "      <th>std</th>\n",
       "      <td>1.695414</td>\n",
       "      <td>101.861377</td>\n",
       "    </tr>\n",
       "    <tr>\n",
       "      <th>min</th>\n",
       "      <td>1.000000</td>\n",
       "      <td>0.000000</td>\n",
       "    </tr>\n",
       "    <tr>\n",
       "      <th>25%</th>\n",
       "      <td>1.000000</td>\n",
       "      <td>0.000000</td>\n",
       "    </tr>\n",
       "    <tr>\n",
       "      <th>50%</th>\n",
       "      <td>3.000000</td>\n",
       "      <td>0.000000</td>\n",
       "    </tr>\n",
       "    <tr>\n",
       "      <th>75%</th>\n",
       "      <td>5.000000</td>\n",
       "      <td>1.000000</td>\n",
       "    </tr>\n",
       "    <tr>\n",
       "      <th>max</th>\n",
       "      <td>5.000000</td>\n",
       "      <td>8032.000000</td>\n",
       "    </tr>\n",
       "  </tbody>\n",
       "</table>\n",
       "</div>"
      ],
      "text/plain": [
       "               score  thumbsUpCount\n",
       "count  109729.000000  109729.000000\n",
       "mean        2.807107      10.750613\n",
       "std         1.695414     101.861377\n",
       "min         1.000000       0.000000\n",
       "25%         1.000000       0.000000\n",
       "50%         3.000000       0.000000\n",
       "75%         5.000000       1.000000\n",
       "max         5.000000    8032.000000"
      ]
     },
     "execution_count": 5,
     "metadata": {},
     "output_type": "execute_result"
    }
   ],
   "source": [
    "df.describe()"
   ]
  },
  {
   "cell_type": "code",
   "execution_count": 6,
   "metadata": {},
   "outputs": [
    {
     "data": {
      "text/plain": [
       "0     Where it's me on the plane. It's good. You can...\n",
       "1     I have an account for 5 users that I share wit...\n",
       "2                  Can never go a day without Netflix 😎\n",
       "3     And another streaming service that I'm not gon...\n",
       "4      Cannot cast if you have ad level plan. Worthless\n",
       "5                                      I want to try it\n",
       "6                                                 You,č\n",
       "7     Very bad cooperative service, was not able to ...\n",
       "8     The latest update completely ruined the app, e...\n",
       "9     The signing up for the first time in Netflix i...\n",
       "10    I deleted my old account so I can use Gopay fo...\n",
       "11                       Video freezes audio continues.\n",
       "12    There is an error to show after loading to wat...\n",
       "13    Keep getting a \"not authorized device\" screen ...\n",
       "14                                        Does not work\n",
       "15                                     Very interesting\n",
       "16    Most crappiest movies I have ever seen in my l...\n",
       "17    Why just why does Netflix fill suggestions wit...\n",
       "18                                              Amazing\n",
       "19    Can be a pretty useless service in some circum...\n",
       "Name: content, dtype: object"
      ]
     },
     "execution_count": 6,
     "metadata": {},
     "output_type": "execute_result"
    }
   ],
   "source": [
    "df.iloc[0:20, 2]"
   ]
  },
  {
   "cell_type": "code",
   "execution_count": 7,
   "metadata": {},
   "outputs": [
    {
     "data": {
      "text/html": [
       "<div>\n",
       "<style scoped>\n",
       "    .dataframe tbody tr th:only-of-type {\n",
       "        vertical-align: middle;\n",
       "    }\n",
       "\n",
       "    .dataframe tbody tr th {\n",
       "        vertical-align: top;\n",
       "    }\n",
       "\n",
       "    .dataframe thead th {\n",
       "        text-align: right;\n",
       "    }\n",
       "</style>\n",
       "<table border=\"1\" class=\"dataframe\">\n",
       "  <thead>\n",
       "    <tr style=\"text-align: right;\">\n",
       "      <th></th>\n",
       "      <th>content</th>\n",
       "      <th>score</th>\n",
       "    </tr>\n",
       "  </thead>\n",
       "  <tbody>\n",
       "    <tr>\n",
       "      <th>0</th>\n",
       "      <td>Where it's me on the plane. It's good. You can...</td>\n",
       "      <td>5</td>\n",
       "    </tr>\n",
       "    <tr>\n",
       "      <th>1</th>\n",
       "      <td>I have an account for 5 users that I share wit...</td>\n",
       "      <td>1</td>\n",
       "    </tr>\n",
       "    <tr>\n",
       "      <th>2</th>\n",
       "      <td>Can never go a day without Netflix 😎</td>\n",
       "      <td>5</td>\n",
       "    </tr>\n",
       "    <tr>\n",
       "      <th>3</th>\n",
       "      <td>And another streaming service that I'm not gon...</td>\n",
       "      <td>1</td>\n",
       "    </tr>\n",
       "    <tr>\n",
       "      <th>4</th>\n",
       "      <td>Cannot cast if you have ad level plan. Worthless</td>\n",
       "      <td>1</td>\n",
       "    </tr>\n",
       "    <tr>\n",
       "      <th>5</th>\n",
       "      <td>I want to try it</td>\n",
       "      <td>4</td>\n",
       "    </tr>\n",
       "    <tr>\n",
       "      <th>6</th>\n",
       "      <td>You,č</td>\n",
       "      <td>3</td>\n",
       "    </tr>\n",
       "    <tr>\n",
       "      <th>7</th>\n",
       "      <td>Very bad cooperative service, was not able to ...</td>\n",
       "      <td>1</td>\n",
       "    </tr>\n",
       "    <tr>\n",
       "      <th>8</th>\n",
       "      <td>The latest update completely ruined the app, e...</td>\n",
       "      <td>1</td>\n",
       "    </tr>\n",
       "    <tr>\n",
       "      <th>9</th>\n",
       "      <td>The signing up for the first time in Netflix i...</td>\n",
       "      <td>3</td>\n",
       "    </tr>\n",
       "    <tr>\n",
       "      <th>10</th>\n",
       "      <td>I deleted my old account so I can use Gopay fo...</td>\n",
       "      <td>1</td>\n",
       "    </tr>\n",
       "    <tr>\n",
       "      <th>11</th>\n",
       "      <td>Video freezes audio continues.</td>\n",
       "      <td>1</td>\n",
       "    </tr>\n",
       "    <tr>\n",
       "      <th>12</th>\n",
       "      <td>There is an error to show after loading to wat...</td>\n",
       "      <td>1</td>\n",
       "    </tr>\n",
       "    <tr>\n",
       "      <th>13</th>\n",
       "      <td>Keep getting a \"not authorized device\" screen ...</td>\n",
       "      <td>1</td>\n",
       "    </tr>\n",
       "    <tr>\n",
       "      <th>14</th>\n",
       "      <td>Does not work</td>\n",
       "      <td>5</td>\n",
       "    </tr>\n",
       "    <tr>\n",
       "      <th>15</th>\n",
       "      <td>Very interesting</td>\n",
       "      <td>5</td>\n",
       "    </tr>\n",
       "    <tr>\n",
       "      <th>16</th>\n",
       "      <td>Most crappiest movies I have ever seen in my l...</td>\n",
       "      <td>1</td>\n",
       "    </tr>\n",
       "    <tr>\n",
       "      <th>17</th>\n",
       "      <td>Why just why does Netflix fill suggestions wit...</td>\n",
       "      <td>1</td>\n",
       "    </tr>\n",
       "    <tr>\n",
       "      <th>18</th>\n",
       "      <td>Amazing</td>\n",
       "      <td>5</td>\n",
       "    </tr>\n",
       "    <tr>\n",
       "      <th>19</th>\n",
       "      <td>Can be a pretty useless service in some circum...</td>\n",
       "      <td>1</td>\n",
       "    </tr>\n",
       "  </tbody>\n",
       "</table>\n",
       "</div>"
      ],
      "text/plain": [
       "                                              content  score\n",
       "0   Where it's me on the plane. It's good. You can...      5\n",
       "1   I have an account for 5 users that I share wit...      1\n",
       "2                Can never go a day without Netflix 😎      5\n",
       "3   And another streaming service that I'm not gon...      1\n",
       "4    Cannot cast if you have ad level plan. Worthless      1\n",
       "5                                    I want to try it      4\n",
       "6                                               You,č      3\n",
       "7   Very bad cooperative service, was not able to ...      1\n",
       "8   The latest update completely ruined the app, e...      1\n",
       "9   The signing up for the first time in Netflix i...      3\n",
       "10  I deleted my old account so I can use Gopay fo...      1\n",
       "11                     Video freezes audio continues.      1\n",
       "12  There is an error to show after loading to wat...      1\n",
       "13  Keep getting a \"not authorized device\" screen ...      1\n",
       "14                                      Does not work      5\n",
       "15                                   Very interesting      5\n",
       "16  Most crappiest movies I have ever seen in my l...      1\n",
       "17  Why just why does Netflix fill suggestions wit...      1\n",
       "18                                            Amazing      5\n",
       "19  Can be a pretty useless service in some circum...      1"
      ]
     },
     "execution_count": 7,
     "metadata": {},
     "output_type": "execute_result"
    }
   ],
   "source": [
    "df.iloc[0:20, 2:4]"
   ]
  },
  {
   "cell_type": "code",
   "execution_count": 8,
   "metadata": {},
   "outputs": [
    {
     "data": {
      "text/plain": [
       "\"Where it's me on the plane. It's good. You can watch movit's really great. I love it and I'm going to go on a plane in 2 and a 1/2 minutes.\""
      ]
     },
     "execution_count": 8,
     "metadata": {},
     "output_type": "execute_result"
    }
   ],
   "source": [
    "df.loc[0, 'content']"
   ]
  },
  {
   "cell_type": "code",
   "execution_count": 9,
   "metadata": {},
   "outputs": [
    {
     "data": {
      "text/plain": [
       "score\n",
       "1    42968\n",
       "5    30859\n",
       "4    13616\n",
       "3    11722\n",
       "2    10564\n",
       "Name: count, dtype: int64"
      ]
     },
     "execution_count": 9,
     "metadata": {},
     "output_type": "execute_result"
    }
   ],
   "source": [
    "df['score'].value_counts()"
   ]
  },
  {
   "cell_type": "code",
   "execution_count": 10,
   "metadata": {},
   "outputs": [
    {
     "data": {
      "text/plain": [
       "score\n",
       "1    0.391583\n",
       "5    0.281229\n",
       "4    0.124088\n",
       "3    0.106827\n",
       "2    0.096274\n",
       "Name: proportion, dtype: float64"
      ]
     },
     "execution_count": 10,
     "metadata": {},
     "output_type": "execute_result"
    }
   ],
   "source": [
    "df['score'].value_counts(normalize=True)"
   ]
  },
  {
   "cell_type": "code",
   "execution_count": 11,
   "metadata": {},
   "outputs": [
    {
     "data": {
      "text/plain": [
       "<Axes: >"
      ]
     },
     "execution_count": 11,
     "metadata": {},
     "output_type": "execute_result"
    },
    {
     "data": {
      "image/png": "[encoded data removed]",
      "text/plain": [
       "<Figure size 640x480 with 1 Axes>"
      ]
     },
     "metadata": {},
     "output_type": "display_data"
    }
   ],
   "source": [
    "df['score'].hist()"
   ]
  },
  {
   "cell_type": "code",
   "execution_count": null,
   "metadata": {},
   "outputs": [],
   "source": []
  }
 ],
 "metadata": {
  "kernelspec": {
   "display_name": "venv",
   "language": "python",
   "name": "python3"
  },
  "language_info": {
   "codemirror_mode": {
    "name": "ipython",
    "version": 3
   },
   "file_extension": ".py",
   "mimetype": "text/x-python",
   "name": "python",
   "nbconvert_exporter": "python",
   "pygments_lexer": "ipython3",
   "version": "3.10.3"
  }
 },
 "nbformat": 4,
 "nbformat_minor": 2
}
